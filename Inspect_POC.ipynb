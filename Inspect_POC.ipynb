{
 "cells": [
  {
   "cell_type": "markdown",
   "metadata": {
    "colab_type": "text",
    "id": "LmDXI6JBucNW"
   },
   "source": [
    "### Dont edit this\n",
    "\n"
   ]
  },
  {
   "cell_type": "code",
   "execution_count": 1,
   "metadata": {
    "colab": {},
    "colab_type": "code",
    "id": "ZTMo_K53rfxb"
   },
   "outputs": [],
   "source": [
    "import requests\n",
    "import matplotlib.pylab as plt\n",
    "\n",
    "# Helper\n",
    "def name_to_b58(hotspot_name):\n",
    "    return list(filter(lambda x: '-'.join(x['name'].lower().split(' ')) == hotspot_name,\n",
    "                       HOTSPOTS))[0]['address']\n",
    "\n",
    "def b58_to_name(hb58):\n",
    "    return list(filter(lambda x: x['address'] == hb58, HOTSPOTS))[0]['name']\n",
    "\n",
    "def get_witnesses_by_name(hname):\n",
    "    hotspot = name_to_b58(hname)\n",
    "\n",
    "    witness_resp = requests.get('{}/witnesses/{}'.format(API, hotspot))\n",
    "    assert(witness_resp.status_code == 200)\n",
    "\n",
    "    witnesses = witness_resp.json()['data']\n",
    "    return witnesses\n",
    "\n",
    "def get_witnesses(hb58):\n",
    "    witness_resp = requests.get('{}/witnesses/{}'.format(API, hb58))\n",
    "    assert(witness_resp.status_code == 200)\n",
    "\n",
    "    witnesses = witness_resp.json()['data']\n",
    "    return witnesses\n",
    "\n",
    "def get_path(challenge_id):\n",
    "    challenge_resp = requests.get('{}/challenges/{}'.format(API, challenge_id))\n",
    "    assert(challenge_resp.status_code == 200)\n",
    "    \n",
    "    path = challenge_resp.json()['data']['pathElements']\n",
    "    addresses = [p['address'] for p in path]\n",
    "    return addresses\n",
    "\n",
    "def plot_single_witness_by_name(hname, wname):\n",
    "    witnesses = get_witnesses_by_name(hname)\n",
    "    for witness in witnesses:\n",
    "        if '-'.join(witness['name'].lower().split(' ')) == wname:\n",
    "            hist = witness['hist']\n",
    "            address = witness['address']\n",
    "            w_name = witness['name']\n",
    "            print(\"{} has witnessed {} at these RSSI values\".format(wname, hname))\n",
    "            # print(w_name)\n",
    "            # print(hist)\n",
    "            plt.bar(range(len(hist)), list(hist.values()), align='center')\n",
    "            plt.xticks(range(len(hist)), list(hist.keys()))\n",
    "            plt.title('Histogram')\n",
    "            plt.xlabel('Buckets')\n",
    "            plt.ylabel('Counts')\n",
    "            plt.show()\n",
    "    return\n",
    "\n",
    "def plot_single_witness(hb58, wb58):\n",
    "    witnesses = get_witnesses(hb58)\n",
    "    for witness in witnesses:\n",
    "        if witness['address'] == wb58:\n",
    "            hist = witness['hist']\n",
    "            address = witness['address']\n",
    "            w_name = witness['name']\n",
    "            print(\"{} has witnessed {} at these RSSI values\".format(w_name, b58_to_name(hb58)))\n",
    "            # print(w_name)\n",
    "            print(hist)\n",
    "            plt.bar(range(len(hist)), list(hist.values()), align='center')\n",
    "            plt.xticks(range(len(hist)), list(hist.keys()))\n",
    "            plt.title('Histogram')\n",
    "            plt.xlabel('Buckets')\n",
    "            plt.ylabel('Counts')\n",
    "            plt.show()\n",
    "    return\n",
    "\n",
    "# Constants, don't touch this\n",
    "API = 'https://explorer.helium.foundation/api'\n",
    "hotspots_resp = requests.get(\"{}/hotspots\".format(API))\n",
    "assert(hotspots_resp.status_code == 200)\n",
    "HOTSPOTS = hotspots_resp.json()['data']"
   ]
  },
  {
   "cell_type": "markdown",
   "metadata": {
    "colab_type": "text",
    "id": "XDjGOaAueUGK"
   },
   "source": [
    "### Edit challenge_id to get path RSSI histograms"
   ]
  },
  {
   "cell_type": "code",
   "execution_count": 44,
   "metadata": {},
   "outputs": [],
   "source": [
    "challenge_id = 1110327"
   ]
  },
  {
   "cell_type": "code",
   "execution_count": 45,
   "metadata": {},
   "outputs": [],
   "source": [
    "path_b58_addrs = get_path(challenge_id)"
   ]
  },
  {
   "cell_type": "code",
   "execution_count": 47,
   "metadata": {},
   "outputs": [
    {
     "data": {
      "text/plain": [
       "['112m48zP6UC1yCZkBtUn15vRUk38rPBqJQeoZdZvPHjL4a88uxkc',\n",
       " '112TYyiHFxgGa5oC7wuuwfXyKhWh8oeA5HpRKJvwMCUwBHCVjwgk',\n",
       " '112CKyEQZ5VqfxxdD2VefrvDHsufQYt1uchs2oaXF14CBCCn44XE',\n",
       " '112NpqyB7Jq3SrmG8tbMwW6rwic8ftpkDFPsechdRzuLE59QSNmY',\n",
       " '1125zynzFS2F1snxjbzattnkTjVGhuJDutGhyzrqtfQZpV78WjKE',\n",
       " '11a9u2Dkh3LjkbXYiCH3dendQySrdhLGyYWJYUcLMspESnhczsk',\n",
       " '1124SaAEM5rAM5yaktUDtZwLWoVBosCQE7sz4MdjomUxENXSAUtY']"
      ]
     },
     "execution_count": 47,
     "metadata": {},
     "output_type": "execute_result"
    }
   ],
   "source": [
    "path_b58_addrs"
   ]
  },
  {
   "cell_type": "code",
   "execution_count": 17,
   "metadata": {},
   "outputs": [
    {
     "data": {
      "text/plain": [
       "['Joyous Foggy Snail',\n",
       " 'Joyful Rose Wallaby',\n",
       " 'Ripe Porcelain Stallion',\n",
       " 'Wonderful Ceramic Wren',\n",
       " 'Faithful Charcoal Seal',\n",
       " 'Bubbly Pastel Ant',\n",
       " 'Unique Brick Guppy']"
      ]
     },
     "execution_count": 17,
     "metadata": {},
     "output_type": "execute_result"
    }
   ],
   "source": [
    "path_names = [b58_to_name(i) for i in path_b58_addrs]\n",
    "path_names"
   ]
  },
  {
   "cell_type": "code",
   "execution_count": 4,
   "metadata": {},
   "outputs": [],
   "source": [
    "def plot_path_rssi_hist(path):\n",
    "  path_length = len(path)\n",
    "  i = 0\n",
    "  while i < path_length:\n",
    "      if i == path_length - 1:\n",
    "          print('done')\n",
    "      else:\n",
    "          h = path[i]\n",
    "          w = path[i + 1]\n",
    "          plot_single_witness(h, w)\n",
    "      i += 1\n",
    "  return"
   ]
  },
  {
   "cell_type": "code",
   "execution_count": 5,
   "metadata": {
    "scrolled": false
   },
   "outputs": [
    {
     "name": "stdout",
     "output_type": "stream",
     "text": [
      "Joyful Rose Wallaby has witnessed Joyous Foggy Snail at these RSSI values\n",
      "{'-132': 0, '-123': 95, '-115': 72, '-106': 0, '-98': 0, '-90': 0, '-81': 0, '-73': 0, '-64': 0, '-56': 0, '28': 13}\n"
     ]
    },
    {
     "data": {
      "image/png": "[encoded data removed]",
      "text/plain": [
       "<Figure size 432x288 with 1 Axes>"
      ]
     },
     "metadata": {
      "needs_background": "light"
     },
     "output_type": "display_data"
    },
    {
     "name": "stdout",
     "output_type": "stream",
     "text": [
      "Ripe Porcelain Stallion has witnessed Joyful Rose Wallaby at these RSSI values\n",
      "{'-132': 0, '-123': 0, '-114': 63, '-105': 1, '-96': 0, '-87': 0, '-78': 0, '-69': 0, '-61': 0, '-52': 0, '28': 5}\n"
     ]
    },
    {
     "data": {
      "image/png": "[encoded data removed]",
      "text/plain": [
       "<Figure size 432x288 with 1 Axes>"
      ]
     },
     "metadata": {
      "needs_background": "light"
     },
     "output_type": "display_data"
    },
    {
     "name": "stdout",
     "output_type": "stream",
     "text": [
      "Wonderful Ceramic Wren has witnessed Ripe Porcelain Stallion at these RSSI values\n",
      "{'-132': 0, '-122': 0, '-112': 87, '-103': 0, '-93': 1, '-84': 0, '-74': 0, '-64': 0, '-55': 0, '-45': 0, '28': 2}\n"
     ]
    },
    {
     "data": {
      "image/png": "[encoded data removed]",
      "text/plain": [
       "<Figure size 432x288 with 1 Axes>"
      ]
     },
     "metadata": {
      "needs_background": "light"
     },
     "output_type": "display_data"
    },
    {
     "name": "stdout",
     "output_type": "stream",
     "text": [
      "Faithful Charcoal Seal has witnessed Wonderful Ceramic Wren at these RSSI values\n",
      "{'-132': 0, '-123': 0, '-114': 0, '-105': 207, '-96': 13, '-87': 0, '-78': 0, '-69': 0, '-61': 0, '-52': 0, '28': 0}\n"
     ]
    },
    {
     "data": {
      "image/png": "[encoded data removed]",
      "text/plain": [
       "<Figure size 432x288 with 1 Axes>"
      ]
     },
     "metadata": {
      "needs_background": "light"
     },
     "output_type": "display_data"
    },
    {
     "name": "stdout",
     "output_type": "stream",
     "text": [
      "Bubbly Pastel Ant has witnessed Faithful Charcoal Seal at these RSSI values\n",
      "{'-132': 0, '-124': 4, '-116': 67, '-108': 14, '-100': 0, '-92': 0, '-84': 0, '-76': 0, '-68': 5, '-61': 1, '28': 55}\n"
     ]
    },
    {
     "data": {
      "image/png": "[encoded data removed]",
      "text/plain": [
       "<Figure size 432x288 with 1 Axes>"
      ]
     },
     "metadata": {
      "needs_background": "light"
     },
     "output_type": "display_data"
    },
    {
     "name": "stdout",
     "output_type": "stream",
     "text": [
      "Unique Brick Guppy has witnessed Bubbly Pastel Ant at these RSSI values\n",
      "{'-132': 0, '-124': 0, '-116': 47, '-108': 25, '-100': 0, '-93': 0, '-85': 0, '-77': 0, '-69': 0, '-62': 0, '28': 51}\n"
     ]
    },
    {
     "data": {
      "image/png": "[encoded data removed]",
      "text/plain": [
       "<Figure size 432x288 with 1 Axes>"
      ]
     },
     "metadata": {
      "needs_background": "light"
     },
     "output_type": "display_data"
    },
    {
     "name": "stdout",
     "output_type": "stream",
     "text": [
      "done\n"
     ]
    }
   ],
   "source": [
    "plot_path_rssi_hist(path_b58_addrs)"
   ]
  },
  {
   "cell_type": "markdown",
   "metadata": {
    "colab_type": "text",
    "id": "VQ7bHBMGt87O"
   },
   "source": [
    "### Edit hotspot_name and witness_name to get RSSI hist"
   ]
  },
  {
   "cell_type": "code",
   "execution_count": 6,
   "metadata": {
    "colab": {},
    "colab_type": "code",
    "id": "Ph71ipy4rldh"
   },
   "outputs": [],
   "source": [
    "# For example\n",
    "hotspot_name = \"skinny-fleece-mockingbird\"\n",
    "witness_name = \"skinny-blue-rat\""
   ]
  },
  {
   "cell_type": "code",
   "execution_count": 7,
   "metadata": {
    "colab": {
     "base_uri": "https://localhost:8080/",
     "height": 0
    },
    "colab_type": "code",
    "id": "w__-ZEiueN0V",
    "outputId": "10706fa9-19a2-4c7d-ca5a-0365f3dfc8bc"
   },
   "outputs": [
    {
     "name": "stdout",
     "output_type": "stream",
     "text": [
      "skinny-blue-rat has witnessed skinny-fleece-mockingbird at these RSSI values\n"
     ]
    },
    {
     "data": {
      "image/png": "[encoded data removed]",
      "text/plain": [
       "<Figure size 432x288 with 1 Axes>"
      ]
     },
     "metadata": {
      "needs_background": "light"
     },
     "output_type": "display_data"
    }
   ],
   "source": [
    "plot_single_witness_by_name(hotspot_name, witness_name)"
   ]
  },
  {
   "cell_type": "markdown",
   "metadata": {
    "colab_type": "text",
    "id": "E5FiZZlKuOm7"
   },
   "source": [
    "### For getting ALL witness RSSIs"
   ]
  },
  {
   "cell_type": "code",
   "execution_count": 18,
   "metadata": {},
   "outputs": [
    {
     "data": {
      "text/plain": [
       "['Joyous Foggy Snail',\n",
       " 'Joyful Rose Wallaby',\n",
       " 'Ripe Porcelain Stallion',\n",
       " 'Wonderful Ceramic Wren',\n",
       " 'Faithful Charcoal Seal',\n",
       " 'Bubbly Pastel Ant',\n",
       " 'Unique Brick Guppy']"
      ]
     },
     "execution_count": 18,
     "metadata": {},
     "output_type": "execute_result"
    }
   ],
   "source": [
    "path_names"
   ]
  },
  {
   "cell_type": "code",
   "execution_count": 30,
   "metadata": {
    "colab": {},
    "colab_type": "code",
    "id": "YaQ2Twq_r0IN",
    "scrolled": false
   },
   "outputs": [
    {
     "name": "stdout",
     "output_type": "stream",
     "text": [
      "{'-132': 0, '-124': 0, '-116': 0, '-108': 0, '-100': 37, '-92': 44, '-84': 0, '-76': 0, '-68': 0, '-60': 6, '28': 54}\n"
     ]
    },
    {
     "data": {
      "image/png": "[encoded data removed]",
      "text/plain": [
       "<Figure size 432x288 with 1 Axes>"
      ]
     },
     "metadata": {
      "needs_background": "light"
     },
     "output_type": "display_data"
    },
    {
     "name": "stdout",
     "output_type": "stream",
     "text": [
      "{'-132': 0, '-124': 0, '-116': 49, '-109': 28, '-101': 0, '-93': 0, '-86': 0, '-78': 0, '-70': 0, '-63': 0, '28': 0}\n"
     ]
    },
    {
     "data": {
      "image/png": "[encoded data removed]",
      "text/plain": [
       "<Figure size 432x288 with 1 Axes>"
      ]
     },
     "metadata": {
      "needs_background": "light"
     },
     "output_type": "display_data"
    },
    {
     "name": "stdout",
     "output_type": "stream",
     "text": [
      "{'-132': 0, '-124': 0, '-116': 0, '-108': 0, '-100': 61, '-92': 13, '-84': 0, '-76': 0, '-68': 0, '-60': 0, '28': 4}\n"
     ]
    },
    {
     "data": {
      "image/png": "[encoded data removed]",
      "text/plain": [
       "<Figure size 432x288 with 1 Axes>"
      ]
     },
     "metadata": {
      "needs_background": "light"
     },
     "output_type": "display_data"
    },
    {
     "name": "stdout",
     "output_type": "stream",
     "text": [
      "{'-132': 0, '-124': 4, '-116': 34, '-108': 0, '-100': 0, '-92': 1, '-84': 0, '-76': 0, '-68': 0, '-60': 0, '28': 3}\n"
     ]
    },
    {
     "data": {
      "image/png": "[encoded data removed]",
      "text/plain": [
       "<Figure size 432x288 with 1 Axes>"
      ]
     },
     "metadata": {
      "needs_background": "light"
     },
     "output_type": "display_data"
    },
    {
     "name": "stdout",
     "output_type": "stream",
     "text": [
      "{'-132': 0, '-124': 0, '-116': 55, '-108': 34, '-100': 0, '-92': 0, '-84': 0, '-76': 0, '-68': 3, '-61': 0, '28': 51}\n"
     ]
    },
    {
     "data": {
      "image/png": "[encoded data removed]",
      "text/plain": [
       "<Figure size 432x288 with 1 Axes>"
      ]
     },
     "metadata": {
      "needs_background": "light"
     },
     "output_type": "display_data"
    },
    {
     "name": "stdout",
     "output_type": "stream",
     "text": [
      "{'-132': 0, '-124': 0, '-116': 47, '-108': 26, '-100': 0, '-93': 0, '-85': 0, '-77': 0, '-69': 0, '-62': 0, '28': 51}\n"
     ]
    },
    {
     "data": {
      "image/png": "[encoded data removed]",
      "text/plain": [
       "<Figure size 432x288 with 1 Axes>"
      ]
     },
     "metadata": {
      "needs_background": "light"
     },
     "output_type": "display_data"
    },
    {
     "name": "stdout",
     "output_type": "stream",
     "text": [
      "{'-132': 0, '-124': 0, '-116': 0, '-109': 38, '-101': 0, '-93': 0, '-86': 0, '-78': 0, '-70': 0, '-63': 0, '28': 2}\n"
     ]
    },
    {
     "data": {
      "image/png": "[encoded data removed]",
      "text/plain": [
       "<Figure size 432x288 with 1 Axes>"
      ]
     },
     "metadata": {
      "needs_background": "light"
     },
     "output_type": "display_data"
    }
   ],
   "source": [
    "## Comment out to see all the values\n",
    "\n",
    "hotspot_name = \"bubbly-pastel-ant\"\n",
    "witnesses = get_witnesses_by_name(hotspot_name)\n",
    "\n",
    "for w in witnesses:\n",
    "    hist = w['hist']\n",
    "    address = w['address']\n",
    "    name = w['name']\n",
    "    print(hist)\n",
    "    plt.bar(range(len(hist)), list(hist.values()), align='center')\n",
    "    plt.xticks(range(len(hist)), list(hist.keys()))\n",
    "    plt.title(name)\n",
    "    plt.xlabel('Buckets')\n",
    "    plt.ylabel('Counts')\n",
    "    plt.show()"
   ]
  },
  {
   "cell_type": "code",
   "execution_count": 22,
   "metadata": {},
   "outputs": [
    {
     "data": {
      "text/plain": [
       "40"
      ]
     },
     "execution_count": 22,
     "metadata": {},
     "output_type": "execute_result"
    }
   ],
   "source": [
    "x = {'-132': 0, '-124': 0, '-116': 0, '-109': 38, '-101': 0, '-93': 0, '-86': 0, '-78': 0, '-70': 0, '-63': 0, '28': 2}\n",
    "sum(x.values())"
   ]
  },
  {
   "cell_type": "markdown",
   "metadata": {
    "colab_type": "text",
    "id": "dCwnQ7nXuSO5"
   },
   "source": [
    "### Edit block height to inspect txns"
   ]
  },
  {
   "cell_type": "code",
   "execution_count": 9,
   "metadata": {
    "colab": {},
    "colab_type": "code",
    "id": "W59B2ZC5r3i3"
   },
   "outputs": [],
   "source": [
    "BLOCK_HEIGHT = 165691"
   ]
  },
  {
   "cell_type": "code",
   "execution_count": 10,
   "metadata": {
    "colab": {},
    "colab_type": "code",
    "id": "4YASHUyyr5ED"
   },
   "outputs": [],
   "source": [
    "transactions_resp = requests.get(\"{}/blocks/{}/transactions\".format(API, BLOCK_HEIGHT))\n",
    "assert(transactions_resp.status_code == 200)"
   ]
  },
  {
   "cell_type": "code",
   "execution_count": 11,
   "metadata": {
    "colab": {},
    "colab_type": "code",
    "id": "IU9rxm1ir6ZJ"
   },
   "outputs": [],
   "source": [
    "def txn_breakdown(txn_resp):\n",
    "    txns = txn_resp.json()['data']\n",
    "    poc_receipt_txns = [t for t in txns if t['type'] == 'poc_receipts']\n",
    "    poc_req_txns = [t for t in txns if t['type'] == 'poc_request']\n",
    "    other_txns = [t for t in txns if t['type'] not in ['poc_receipts', 'poc_request']]\n",
    "\n",
    "    print(\"block_height: {}, total_txns: {}\".format(BLOCK_HEIGHT, len(txns)))\n",
    "    print(\"block_height: {}, total_poc_receipts: {}\".format(BLOCK_HEIGHT, len(poc_receipt_txns)))\n",
    "    print(\"block_height: {}, total_poc_requests: {}\".format(BLOCK_HEIGHT, len(poc_req_txns)))\n",
    "    print(\"block_height: {}, other_txns: {}\".format(BLOCK_HEIGHT, len(other_txns)))"
   ]
  },
  {
   "cell_type": "code",
   "execution_count": 12,
   "metadata": {
    "colab": {},
    "colab_type": "code",
    "id": "G05yjSPCr7X_"
   },
   "outputs": [
    {
     "name": "stdout",
     "output_type": "stream",
     "text": [
      "block_height: 165691, total_txns: 101\n",
      "block_height: 165691, total_poc_receipts: 45\n",
      "block_height: 165691, total_poc_requests: 56\n",
      "block_height: 165691, other_txns: 0\n"
     ]
    }
   ],
   "source": [
    "txn_breakdown(transactions_resp)"
   ]
  },
  {
   "cell_type": "code",
   "execution_count": 41,
   "metadata": {},
   "outputs": [],
   "source": [
    "data = {'w1': {'tot': 141, 'good': 87, 'bad': 54},\n",
    " 'w2': {'tot': 77, 'good': 77, 'bad': 0},\n",
    " 'w3': {'tot': 78, 'good': 74, 'bad': 4},\n",
    " 'w4': {'tot': 42, 'good': 39, 'bad': 3},\n",
    " 'w5': {'tot': 143, 'good': 92, 'bad': 51},\n",
    " 'w6': {'tot': 124, 'good': 73, 'bad': 51},\n",
    " 'w7': {'tot': 40, 'good': 38, 'bad': 2}\n",
    "}"
   ]
  },
  {
   "cell_type": "code",
   "execution_count": 42,
   "metadata": {},
   "outputs": [
    {
     "data": {
      "text/plain": [
       "{'w1': {'tot': 141, 'good': 87, 'bad': 54},\n",
       " 'w2': {'tot': 77, 'good': 77, 'bad': 0},\n",
       " 'w3': {'tot': 78, 'good': 74, 'bad': 4},\n",
       " 'w4': {'tot': 42, 'good': 39, 'bad': 3},\n",
       " 'w5': {'tot': 143, 'good': 92, 'bad': 51},\n",
       " 'w6': {'tot': 124, 'good': 73, 'bad': 51},\n",
       " 'w7': {'tot': 40, 'good': 38, 'bad': 2}}"
      ]
     },
     "execution_count": 42,
     "metadata": {},
     "output_type": "execute_result"
    }
   ],
   "source": [
    "data"
   ]
  },
  {
   "cell_type": "code",
   "execution_count": 32,
   "metadata": {},
   "outputs": [],
   "source": [
    "tot = [141, 77, 78, 42, 143, 124, 40]"
   ]
  },
  {
   "cell_type": "code",
   "execution_count": 34,
   "metadata": {},
   "outputs": [
    {
     "data": {
      "text/plain": [
       "[0.7813953488372093,\n",
       " 0.8806201550387597,\n",
       " 0.8790697674418605,\n",
       " 0.9348837209302325,\n",
       " 0.7782945736434108,\n",
       " 0.8077519379844962,\n",
       " 0.937984496124031]"
      ]
     },
     "execution_count": 34,
     "metadata": {},
     "output_type": "execute_result"
    }
   ],
   "source": [
    "[1 - i/sum(tot) for i in tot]"
   ]
  },
  {
   "cell_type": "code",
   "execution_count": null,
   "metadata": {},
   "outputs": [],
   "source": []
  }
 ],
 "metadata": {
  "colab": {
   "collapsed_sections": [
    "LmDXI6JBucNW",
    "evqLLcfBuHUQ",
    "E5FiZZlKuOm7",
    "dCwnQ7nXuSO5"
   ],
   "name": "Inspect_POC.ipynb",
   "provenance": []
  },
  "kernelspec": {
   "display_name": "Python 3",
   "language": "python",
   "name": "python3"
  },
  "language_info": {
   "codemirror_mode": {
    "name": "ipython",
    "version": 3
   },
   "file_extension": ".py",
   "mimetype": "text/x-python",
   "name": "python",
   "nbconvert_exporter": "python",
   "pygments_lexer": "ipython3",
   "version": "3.7.6"
  }
 },
 "nbformat": 4,
 "nbformat_minor": 1
}
