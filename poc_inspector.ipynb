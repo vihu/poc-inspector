{
 "cells": [
  {
   "cell_type": "markdown",
   "metadata": {
    "colab_type": "text",
    "id": "LmDXI6JBucNW"
   },
   "source": [
    "### Dont edit this\n",
    "\n"
   ]
  },
  {
   "cell_type": "code",
   "execution_count": 1,
   "metadata": {
    "colab": {},
    "colab_type": "code",
    "id": "ZTMo_K53rfxb"
   },
   "outputs": [],
   "source": [
    "import requests\n",
    "import matplotlib.pylab as plt\n",
    "\n",
    "# Helper\n",
    "def name_to_b58(hotspot_name):\n",
    "    return list(filter(lambda x: '-'.join(x['name'].lower().split(' ')) == hotspot_name,\n",
    "                       HOTSPOTS))[0]['address']\n",
    "\n",
    "def b58_to_name(hb58):\n",
    "    return list(filter(lambda x: x['address'] == hb58, HOTSPOTS))[0]['name']\n",
    "\n",
    "def get_witnesses_by_name(hname):\n",
    "    hotspot = name_to_b58(hname)\n",
    "\n",
    "    witness_resp = requests.get('{}/witnesses/{}'.format(API, hotspot))\n",
    "    assert(witness_resp.status_code == 200)\n",
    "\n",
    "    witnesses = witness_resp.json()['data']\n",
    "    return witnesses\n",
    "\n",
    "def get_witnesses(hb58):\n",
    "    witness_resp = requests.get('{}/witnesses/{}'.format(API, hb58))\n",
    "    assert(witness_resp.status_code == 200)\n",
    "\n",
    "    witnesses = witness_resp.json()['data']\n",
    "    return witnesses\n",
    "\n",
    "def get_path(challenge_id):\n",
    "    challenge_resp = requests.get('{}/challenges/{}'.format(API, challenge_id))\n",
    "    assert(challenge_resp.status_code == 200)\n",
    "    \n",
    "    path = challenge_resp.json()['data']['pathElements']\n",
    "    addresses = [p['address'] for p in path]\n",
    "    return addresses\n",
    "\n",
    "def plot_single_witness_by_name(hname, wname):\n",
    "    witnesses = get_witnesses_by_name(hname)\n",
    "    for witness in witnesses:\n",
    "        if '-'.join(witness['name'].lower().split(' ')) == wname:\n",
    "            hist = witness['hist']\n",
    "            address = witness['address']\n",
    "            w_name = witness['name']\n",
    "            print(\"{} has witnessed {} at these RSSI values\".format(wname, hname))\n",
    "            # print(w_name)\n",
    "            # print(hist)\n",
    "            plt.bar(range(len(hist)), list(hist.values()), align='center')\n",
    "            plt.xticks(range(len(hist)), list(hist.keys()))\n",
    "            plt.title('Histogram')\n",
    "            plt.xlabel('Buckets')\n",
    "            plt.ylabel('Counts')\n",
    "            plt.show()\n",
    "    return\n",
    "\n",
    "def plot_single_witness(hb58, wb58):\n",
    "    witnesses = get_witnesses(hb58)\n",
    "    for witness in witnesses:\n",
    "        if witness['address'] == wb58:\n",
    "            hist = witness['hist']\n",
    "            address = witness['address']\n",
    "            w_name = witness['name']\n",
    "            print(\"{} has witnessed {} at these RSSI values\".format(w_name, b58_to_name(hb58)))\n",
    "            # print(w_name)\n",
    "            print(hist)\n",
    "            plt.bar(range(len(hist)), list(hist.values()), align='center')\n",
    "            plt.xticks(range(len(hist)), list(hist.keys()))\n",
    "            plt.title('Histogram')\n",
    "            plt.xlabel('Buckets')\n",
    "            plt.ylabel('Counts')\n",
    "            plt.show()\n",
    "    return\n",
    "\n",
    "# Constants, don't touch this\n",
    "API = 'https://explorer.helium.foundation/api'\n",
    "hotspots_resp = requests.get(\"{}/hotspots\".format(API))\n",
    "assert(hotspots_resp.status_code == 200)\n",
    "HOTSPOTS = hotspots_resp.json()['data']"
   ]
  },
  {
   "cell_type": "markdown",
   "metadata": {
    "colab_type": "text",
    "id": "XDjGOaAueUGK"
   },
   "source": [
    "### Edit challenge_id to get path RSSI histograms"
   ]
  },
  {
   "cell_type": "code",
   "execution_count": 2,
   "metadata": {},
   "outputs": [],
   "source": [
    "challenge_id = 1157989"
   ]
  },
  {
   "cell_type": "code",
   "execution_count": 3,
   "metadata": {},
   "outputs": [],
   "source": [
    "path_b58_addrs = get_path(challenge_id)"
   ]
  },
  {
   "cell_type": "code",
   "execution_count": 4,
   "metadata": {},
   "outputs": [
    {
     "data": {
      "text/plain": [
       "['1128s66jgeG9oxw33FV7Gw52wfNukPSKGupB2C7N3w1poid5LeRC',\n",
       " '11iYaU281c2Yjo2tvMxyeu1t95Cv7aLWuAoBYte51gZ7bKijzpj',\n",
       " '11Cf71gfoUWGKg64i3JaiZLeroUFzBenfMzJiXCuq7wRp12G7tm',\n",
       " '112tH63a6WUWTdX1d99szjyj31JbGfasG6mrBfwCUX3gdTXMHWdR',\n",
       " '112L7A2Xpkh7fjKjuaTfq3WgEn9nnAXg2M7BTWsR9dYvn4eopguz',\n",
       " '11Y8kn3fygywYkSFNkLNYqRFh22jkzFLYuVPAPcAwg7FeR5dnea',\n",
       " '11DvZivbwHVRx4PbQwAd5w2DQEAcfSCRVzsW7gjRKQ86nCEJxHJ']"
      ]
     },
     "execution_count": 4,
     "metadata": {},
     "output_type": "execute_result"
    }
   ],
   "source": [
    "path_b58_addrs"
   ]
  },
  {
   "cell_type": "code",
   "execution_count": 5,
   "metadata": {},
   "outputs": [
    {
     "data": {
      "text/plain": [
       "['Electric Chiffon Porcupine',\n",
       " 'Boxy Wool Bull',\n",
       " 'Shaggy Quartz Rook',\n",
       " 'High Citron Raccoon',\n",
       " 'Stable Pear Pangolin',\n",
       " 'Daring Citron Newt',\n",
       " 'Hidden Tangelo Starling']"
      ]
     },
     "execution_count": 5,
     "metadata": {},
     "output_type": "execute_result"
    }
   ],
   "source": [
    "path_names = [b58_to_name(i) for i in path_b58_addrs]\n",
    "path_names"
   ]
  },
  {
   "cell_type": "code",
   "execution_count": 6,
   "metadata": {},
   "outputs": [],
   "source": [
    "def plot_path_rssi_hist(path):\n",
    "  path_length = len(path)\n",
    "  i = 0\n",
    "  while i < path_length:\n",
    "      if i == path_length - 1:\n",
    "          print('done')\n",
    "      else:\n",
    "          h = path[i]\n",
    "          w = path[i + 1]\n",
    "          plot_single_witness(h, w)\n",
    "      i += 1\n",
    "  return"
   ]
  },
  {
   "cell_type": "code",
   "execution_count": 7,
   "metadata": {
    "scrolled": false
   },
   "outputs": [
    {
     "name": "stdout",
     "output_type": "stream",
     "text": [
      "Boxy Wool Bull has witnessed Electric Chiffon Porcupine at these RSSI values\n",
      "{'-132': 0, '-123': 0, '-114': 0, '-105': 9, '-97': 2, '-88': 7, '-79': 64, '-70': 10, '-62': 0, '-53': 0, '28': 3}\n"
     ]
    },
    {
     "data": {
      "image/png": "[encoded data removed]",
      "text/plain": [
       "<Figure size 432x288 with 1 Axes>"
      ]
     },
     "metadata": {
      "needs_background": "light"
     },
     "output_type": "display_data"
    },
    {
     "name": "stdout",
     "output_type": "stream",
     "text": [
      "Shaggy Quartz Rook has witnessed Boxy Wool Bull at these RSSI values\n",
      "{'-132': 0, '-123': 8, '-115': 7, '-107': 20, '-99': 51, '-90': 0, '-82': 0, '-74': 0, '-66': 0, '-58': 0, '28': 0}\n"
     ]
    },
    {
     "data": {
      "image/png": "[encoded data removed]",
      "text/plain": [
       "<Figure size 432x288 with 1 Axes>"
      ]
     },
     "metadata": {
      "needs_background": "light"
     },
     "output_type": "display_data"
    },
    {
     "name": "stdout",
     "output_type": "stream",
     "text": [
      "High Citron Raccoon has witnessed Shaggy Quartz Rook at these RSSI values\n",
      "{'-132': 0, '-123': 1, '-114': 13, '-106': 47, '-97': 17, '-89': 0, '-80': 0, '-72': 0, '-63': 0, '-55': 0, '28': 1}\n"
     ]
    },
    {
     "data": {
      "image/png": "[encoded data removed]",
      "text/plain": [
       "<Figure size 432x288 with 1 Axes>"
      ]
     },
     "metadata": {
      "needs_background": "light"
     },
     "output_type": "display_data"
    },
    {
     "name": "stdout",
     "output_type": "stream",
     "text": [
      "Stable Pear Pangolin has witnessed High Citron Raccoon at these RSSI values\n",
      "{'-132': 0, '-122': 20, '-113': 41, '-104': 17, '-95': 0, '-86': 0, '-77': 0, '-68': 0, '-59': 0, '-50': 0, '28': 1}\n"
     ]
    },
    {
     "data": {
      "image/png": "[encoded data removed]",
      "text/plain": [
       "<Figure size 432x288 with 1 Axes>"
      ]
     },
     "metadata": {
      "needs_background": "light"
     },
     "output_type": "display_data"
    },
    {
     "name": "stdout",
     "output_type": "stream",
     "text": [
      "Daring Citron Newt has witnessed Stable Pear Pangolin at these RSSI values\n",
      "{'-132': 0, '-123': 0, '-114': 4, '-106': 39, '-97': 41, '-89': 0, '-80': 0, '-72': 0, '-63': 0, '-55': 0, '28': 1}\n"
     ]
    },
    {
     "data": {
      "image/png": "[encoded data removed]",
      "text/plain": [
       "<Figure size 432x288 with 1 Axes>"
      ]
     },
     "metadata": {
      "needs_background": "light"
     },
     "output_type": "display_data"
    },
    {
     "name": "stdout",
     "output_type": "stream",
     "text": [
      "Hidden Tangelo Starling has witnessed Daring Citron Newt at these RSSI values\n",
      "{'-132': 0, '-122': 2, '-113': 11, '-104': 69, '-95': 4, '-86': 0, '-77': 0, '-67': 0, '-58': 0, '-49': 0, '28': 2}\n"
     ]
    },
    {
     "data": {
      "image/png": "[encoded data removed]",
      "text/plain": [
       "<Figure size 432x288 with 1 Axes>"
      ]
     },
     "metadata": {
      "needs_background": "light"
     },
     "output_type": "display_data"
    },
    {
     "name": "stdout",
     "output_type": "stream",
     "text": [
      "done\n"
     ]
    }
   ],
   "source": [
    "plot_path_rssi_hist(path_b58_addrs)"
   ]
  },
  {
   "cell_type": "markdown",
   "metadata": {
    "colab_type": "text",
    "id": "VQ7bHBMGt87O"
   },
   "source": [
    "### Edit hotspot_name and witness_name to get RSSI hist"
   ]
  },
  {
   "cell_type": "code",
   "execution_count": 8,
   "metadata": {
    "colab": {},
    "colab_type": "code",
    "id": "Ph71ipy4rldh"
   },
   "outputs": [],
   "source": [
    "# For example\n",
    "hotspot_name = \"skinny-fleece-mockingbird\"\n",
    "witness_name = \"skinny-blue-rat\""
   ]
  },
  {
   "cell_type": "code",
   "execution_count": 9,
   "metadata": {
    "colab": {
     "base_uri": "https://localhost:8080/",
     "height": 0
    },
    "colab_type": "code",
    "id": "w__-ZEiueN0V",
    "outputId": "10706fa9-19a2-4c7d-ca5a-0365f3dfc8bc"
   },
   "outputs": [
    {
     "name": "stdout",
     "output_type": "stream",
     "text": [
      "skinny-blue-rat has witnessed skinny-fleece-mockingbird at these RSSI values\n"
     ]
    },
    {
     "data": {
      "image/png": "[encoded data removed]",
      "text/plain": [
       "<Figure size 432x288 with 1 Axes>"
      ]
     },
     "metadata": {
      "needs_background": "light"
     },
     "output_type": "display_data"
    }
   ],
   "source": [
    "plot_single_witness_by_name(hotspot_name, witness_name)"
   ]
  },
  {
   "cell_type": "markdown",
   "metadata": {
    "colab_type": "text",
    "id": "E5FiZZlKuOm7"
   },
   "source": [
    "### For getting ALL witness RSSIs"
   ]
  },
  {
   "cell_type": "code",
   "execution_count": 10,
   "metadata": {},
   "outputs": [
    {
     "data": {
      "text/plain": [
       "['Electric Chiffon Porcupine',\n",
       " 'Boxy Wool Bull',\n",
       " 'Shaggy Quartz Rook',\n",
       " 'High Citron Raccoon',\n",
       " 'Stable Pear Pangolin',\n",
       " 'Daring Citron Newt',\n",
       " 'Hidden Tangelo Starling']"
      ]
     },
     "execution_count": 10,
     "metadata": {},
     "output_type": "execute_result"
    }
   ],
   "source": [
    "path_names"
   ]
  },
  {
   "cell_type": "code",
   "execution_count": 11,
   "metadata": {
    "colab": {},
    "colab_type": "code",
    "id": "YaQ2Twq_r0IN",
    "scrolled": false
   },
   "outputs": [
    {
     "name": "stdout",
     "output_type": "stream",
     "text": [
      "{'-132': 0, '-124': 0, '-116': 0, '-108': 1, '-100': 108, '-92': 82, '-84': 0, '-76': 0, '-68': 0, '-60': 6, '28': 55}\n"
     ]
    },
    {
     "data": {
      "image/png": "[encoded data removed]",
      "text/plain": [
       "<Figure size 432x288 with 1 Axes>"
      ]
     },
     "metadata": {
      "needs_background": "light"
     },
     "output_type": "display_data"
    },
    {
     "name": "stdout",
     "output_type": "stream",
     "text": [
      "{'-132': 0, '-124': 9, '-116': 140, '-109': 53, '-101': 0, '-93': 0, '-86': 0, '-78': 0, '-70': 0, '-63': 0, '28': 0}\n"
     ]
    },
    {
     "data": {
      "image/png": "[encoded data removed]",
      "text/plain": [
       "<Figure size 432x288 with 1 Axes>"
      ]
     },
     "metadata": {
      "needs_background": "light"
     },
     "output_type": "display_data"
    },
    {
     "name": "stdout",
     "output_type": "stream",
     "text": [
      "{'-132': 0, '-124': 0, '-116': 0, '-108': 0, '-100': 128, '-92': 70, '-84': 1, '-76': 0, '-68': 0, '-60': 0, '28': 6}\n"
     ]
    },
    {
     "data": {
      "image/png": "[encoded data removed]",
      "text/plain": [
       "<Figure size 432x288 with 1 Axes>"
      ]
     },
     "metadata": {
      "needs_background": "light"
     },
     "output_type": "display_data"
    },
    {
     "name": "stdout",
     "output_type": "stream",
     "text": [
      "{'-132': 0, '-124': 4, '-116': 89, '-108': 49, '-100': 1, '-92': 1, '-84': 0, '-76': 0, '-68': 0, '-60': 0, '28': 4}\n"
     ]
    },
    {
     "data": {
      "image/png": "[encoded data removed]",
      "text/plain": [
       "<Figure size 432x288 with 1 Axes>"
      ]
     },
     "metadata": {
      "needs_background": "light"
     },
     "output_type": "display_data"
    },
    {
     "name": "stdout",
     "output_type": "stream",
     "text": [
      "{'-132': 0, '-124': 0, '-116': 92, '-108': 128, '-100': 2, '-92': 0, '-84': 0, '-76': 0, '-68': 3, '-61': 0, '28': 56}\n"
     ]
    },
    {
     "data": {
      "image/png": "[encoded data removed]",
      "text/plain": [
       "<Figure size 432x288 with 1 Axes>"
      ]
     },
     "metadata": {
      "needs_background": "light"
     },
     "output_type": "display_data"
    },
    {
     "name": "stdout",
     "output_type": "stream",
     "text": [
      "{'-132': 0, '-124': 0, '-116': 136, '-108': 55, '-100': 0, '-93': 0, '-85': 0, '-77': 0, '-69': 0, '-62': 0, '28': 52}\n"
     ]
    },
    {
     "data": {
      "image/png": "[encoded data removed]",
      "text/plain": [
       "<Figure size 432x288 with 1 Axes>"
      ]
     },
     "metadata": {
      "needs_background": "light"
     },
     "output_type": "display_data"
    },
    {
     "name": "stdout",
     "output_type": "stream",
     "text": [
      "{'-132': 0, '-124': 0, '-116': 8, '-109': 151, '-101': 1, '-93': 0, '-86': 0, '-78': 0, '-70': 0, '-63': 0, '28': 2}\n"
     ]
    },
    {
     "data": {
      "image/png": "[encoded data removed]",
      "text/plain": [
       "<Figure size 432x288 with 1 Axes>"
      ]
     },
     "metadata": {
      "needs_background": "light"
     },
     "output_type": "display_data"
    }
   ],
   "source": [
    "## Comment out to see all the values\n",
    "\n",
    "hotspot_name = \"bubbly-pastel-ant\"\n",
    "witnesses = get_witnesses_by_name(hotspot_name)\n",
    "\n",
    "for w in witnesses:\n",
    "    hist = w['hist']\n",
    "    address = w['address']\n",
    "    name = w['name']\n",
    "    print(hist)\n",
    "    plt.bar(range(len(hist)), list(hist.values()), align='center')\n",
    "    plt.xticks(range(len(hist)), list(hist.keys()))\n",
    "    plt.title(name)\n",
    "    plt.xlabel('Buckets')\n",
    "    plt.ylabel('Counts')\n",
    "    plt.show()"
   ]
  },
  {
   "cell_type": "code",
   "execution_count": 12,
   "metadata": {},
   "outputs": [
    {
     "data": {
      "text/plain": [
       "40"
      ]
     },
     "execution_count": 12,
     "metadata": {},
     "output_type": "execute_result"
    }
   ],
   "source": [
    "x = {'-132': 0, '-124': 0, '-116': 0, '-109': 38, '-101': 0, '-93': 0, '-86': 0, '-78': 0, '-70': 0, '-63': 0, '28': 2}\n",
    "sum(x.values())"
   ]
  },
  {
   "cell_type": "markdown",
   "metadata": {
    "colab_type": "text",
    "id": "dCwnQ7nXuSO5"
   },
   "source": [
    "### Edit block height to inspect txns"
   ]
  },
  {
   "cell_type": "code",
   "execution_count": 13,
   "metadata": {
    "colab": {},
    "colab_type": "code",
    "id": "W59B2ZC5r3i3"
   },
   "outputs": [],
   "source": [
    "BLOCK_HEIGHT = 165691"
   ]
  },
  {
   "cell_type": "code",
   "execution_count": 14,
   "metadata": {
    "colab": {},
    "colab_type": "code",
    "id": "4YASHUyyr5ED"
   },
   "outputs": [],
   "source": [
    "transactions_resp = requests.get(\"{}/blocks/{}/transactions\".format(API, BLOCK_HEIGHT))\n",
    "assert(transactions_resp.status_code == 200)"
   ]
  },
  {
   "cell_type": "code",
   "execution_count": 15,
   "metadata": {
    "colab": {},
    "colab_type": "code",
    "id": "IU9rxm1ir6ZJ"
   },
   "outputs": [],
   "source": [
    "def txn_breakdown(txn_resp):\n",
    "    txns = txn_resp.json()['data']\n",
    "    poc_receipt_txns = [t for t in txns if t['type'] == 'poc_receipts']\n",
    "    poc_req_txns = [t for t in txns if t['type'] == 'poc_request']\n",
    "    other_txns = [t for t in txns if t['type'] not in ['poc_receipts', 'poc_request']]\n",
    "\n",
    "    print(\"block_height: {}, total_txns: {}\".format(BLOCK_HEIGHT, len(txns)))\n",
    "    print(\"block_height: {}, total_poc_receipts: {}\".format(BLOCK_HEIGHT, len(poc_receipt_txns)))\n",
    "    print(\"block_height: {}, total_poc_requests: {}\".format(BLOCK_HEIGHT, len(poc_req_txns)))\n",
    "    print(\"block_height: {}, other_txns: {}\".format(BLOCK_HEIGHT, len(other_txns)))"
   ]
  },
  {
   "cell_type": "code",
   "execution_count": 16,
   "metadata": {
    "colab": {},
    "colab_type": "code",
    "id": "G05yjSPCr7X_"
   },
   "outputs": [
    {
     "name": "stdout",
     "output_type": "stream",
     "text": [
      "block_height: 165691, total_txns: 101\n",
      "block_height: 165691, total_poc_receipts: 45\n",
      "block_height: 165691, total_poc_requests: 56\n",
      "block_height: 165691, other_txns: 0\n"
     ]
    }
   ],
   "source": [
    "txn_breakdown(transactions_resp)"
   ]
  },
  {
   "cell_type": "code",
   "execution_count": 17,
   "metadata": {},
   "outputs": [],
   "source": [
    "data = {'w1': {'tot': 141, 'good': 87, 'bad': 54},\n",
    " 'w2': {'tot': 77, 'good': 77, 'bad': 0},\n",
    " 'w3': {'tot': 78, 'good': 74, 'bad': 4},\n",
    " 'w4': {'tot': 42, 'good': 39, 'bad': 3},\n",
    " 'w5': {'tot': 143, 'good': 92, 'bad': 51},\n",
    " 'w6': {'tot': 124, 'good': 73, 'bad': 51},\n",
    " 'w7': {'tot': 40, 'good': 38, 'bad': 2}\n",
    "}"
   ]
  },
  {
   "cell_type": "code",
   "execution_count": 18,
   "metadata": {},
   "outputs": [
    {
     "data": {
      "text/plain": [
       "{'w1': {'tot': 141, 'good': 87, 'bad': 54},\n",
       " 'w2': {'tot': 77, 'good': 77, 'bad': 0},\n",
       " 'w3': {'tot': 78, 'good': 74, 'bad': 4},\n",
       " 'w4': {'tot': 42, 'good': 39, 'bad': 3},\n",
       " 'w5': {'tot': 143, 'good': 92, 'bad': 51},\n",
       " 'w6': {'tot': 124, 'good': 73, 'bad': 51},\n",
       " 'w7': {'tot': 40, 'good': 38, 'bad': 2}}"
      ]
     },
     "execution_count": 18,
     "metadata": {},
     "output_type": "execute_result"
    }
   ],
   "source": [
    "data"
   ]
  },
  {
   "cell_type": "code",
   "execution_count": 19,
   "metadata": {},
   "outputs": [],
   "source": [
    "tot = [141, 77, 78, 42, 143, 124, 40]"
   ]
  },
  {
   "cell_type": "code",
   "execution_count": 20,
   "metadata": {},
   "outputs": [
    {
     "data": {
      "text/plain": [
       "[0.7813953488372093,\n",
       " 0.8806201550387597,\n",
       " 0.8790697674418605,\n",
       " 0.9348837209302325,\n",
       " 0.7782945736434108,\n",
       " 0.8077519379844962,\n",
       " 0.937984496124031]"
      ]
     },
     "execution_count": 20,
     "metadata": {},
     "output_type": "execute_result"
    }
   ],
   "source": [
    "[1 - i/sum(tot) for i in tot]"
   ]
  },
  {
   "cell_type": "code",
   "execution_count": null,
   "metadata": {},
   "outputs": [],
   "source": []
  }
 ],
 "metadata": {
  "colab": {
   "collapsed_sections": [
    "LmDXI6JBucNW",
    "evqLLcfBuHUQ",
    "E5FiZZlKuOm7",
    "dCwnQ7nXuSO5"
   ],
   "name": "Inspect_POC.ipynb",
   "provenance": []
  },
  "kernelspec": {
   "display_name": "Python [conda env:poc-inspector] *",
   "language": "python",
   "name": "conda-env-poc-inspector-py"
  },
  "language_info": {
   "codemirror_mode": {
    "name": "ipython",
    "version": 3
   },
   "file_extension": ".py",
   "mimetype": "text/x-python",
   "name": "python",
   "nbconvert_exporter": "python",
   "pygments_lexer": "ipython3",
   "version": "3.7.6"
  },
  "widgets": {
   "application/vnd.jupyter.widget-state+json": {
    "state": {},
    "version_major": 2,
    "version_minor": 0
   }
  }
 },
 "nbformat": 4,
 "nbformat_minor": 1
}
